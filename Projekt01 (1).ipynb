{
  "nbformat": 4,
  "nbformat_minor": 0,
  "metadata": {
    "colab": {
      "provenance": [],
      "gpuType": "T4"
    },
    "kernelspec": {
      "name": "python3",
      "display_name": "Python 3"
    },
    "language_info": {
      "name": "python"
    },
    "accelerator": "GPU",
    "widgets": {
      "application/vnd.jupyter.widget-state+json": {
        "cb2895bc6d8c4fc3ad138aff24e59db4": {
          "model_module": "@jupyter-widgets/controls",
          "model_name": "HBoxModel",
          "model_module_version": "1.5.0",
          "state": {
            "_dom_classes": [],
            "_model_module": "@jupyter-widgets/controls",
            "_model_module_version": "1.5.0",
            "_model_name": "HBoxModel",
            "_view_count": null,
            "_view_module": "@jupyter-widgets/controls",
            "_view_module_version": "1.5.0",
            "_view_name": "HBoxView",
            "box_style": "",
            "children": [
              "IPY_MODEL_46b1a593b5a74de184d0d8b58260a2ae",
              "IPY_MODEL_2015fb8af5ed4531b6bc48728940d5d9",
              "IPY_MODEL_17222deb9326460582028da5e9d39d92"
            ],
            "layout": "IPY_MODEL_8f9ff0f075e8411e95df1ede4c7ba971"
          }
        },
        "46b1a593b5a74de184d0d8b58260a2ae": {
          "model_module": "@jupyter-widgets/controls",
          "model_name": "HTMLModel",
          "model_module_version": "1.5.0",
          "state": {
            "_dom_classes": [],
            "_model_module": "@jupyter-widgets/controls",
            "_model_module_version": "1.5.0",
            "_model_name": "HTMLModel",
            "_view_count": null,
            "_view_module": "@jupyter-widgets/controls",
            "_view_module_version": "1.5.0",
            "_view_name": "HTMLView",
            "description": "",
            "description_tooltip": null,
            "layout": "IPY_MODEL_aa6e0addc09e4934ba50fdf1b994fbdc",
            "placeholder": "​",
            "style": "IPY_MODEL_ff7564d60cd840d198adcb99c808e48a",
            "value": "100%"
          }
        },
        "2015fb8af5ed4531b6bc48728940d5d9": {
          "model_module": "@jupyter-widgets/controls",
          "model_name": "FloatProgressModel",
          "model_module_version": "1.5.0",
          "state": {
            "_dom_classes": [],
            "_model_module": "@jupyter-widgets/controls",
            "_model_module_version": "1.5.0",
            "_model_name": "FloatProgressModel",
            "_view_count": null,
            "_view_module": "@jupyter-widgets/controls",
            "_view_module_version": "1.5.0",
            "_view_name": "ProgressView",
            "bar_style": "success",
            "description": "",
            "description_tooltip": null,
            "layout": "IPY_MODEL_2dbab4ac0e31428c95d71644d87ac109",
            "max": 50,
            "min": 0,
            "orientation": "horizontal",
            "style": "IPY_MODEL_66f7a038a68e45f7907dbafdffa2ca91",
            "value": 50
          }
        },
        "17222deb9326460582028da5e9d39d92": {
          "model_module": "@jupyter-widgets/controls",
          "model_name": "HTMLModel",
          "model_module_version": "1.5.0",
          "state": {
            "_dom_classes": [],
            "_model_module": "@jupyter-widgets/controls",
            "_model_module_version": "1.5.0",
            "_model_name": "HTMLModel",
            "_view_count": null,
            "_view_module": "@jupyter-widgets/controls",
            "_view_module_version": "1.5.0",
            "_view_name": "HTMLView",
            "description": "",
            "description_tooltip": null,
            "layout": "IPY_MODEL_f2b946a44fa0491887839654721df2fb",
            "placeholder": "​",
            "style": "IPY_MODEL_78f132d9b3424374bd41fa58aa6a03f1",
            "value": " 50/50 [25:10&lt;00:00, 38.60s/it]"
          }
        },
        "8f9ff0f075e8411e95df1ede4c7ba971": {
          "model_module": "@jupyter-widgets/base",
          "model_name": "LayoutModel",
          "model_module_version": "1.2.0",
          "state": {
            "_model_module": "@jupyter-widgets/base",
            "_model_module_version": "1.2.0",
            "_model_name": "LayoutModel",
            "_view_count": null,
            "_view_module": "@jupyter-widgets/base",
            "_view_module_version": "1.2.0",
            "_view_name": "LayoutView",
            "align_content": null,
            "align_items": null,
            "align_self": null,
            "border": null,
            "bottom": null,
            "display": null,
            "flex": null,
            "flex_flow": null,
            "grid_area": null,
            "grid_auto_columns": null,
            "grid_auto_flow": null,
            "grid_auto_rows": null,
            "grid_column": null,
            "grid_gap": null,
            "grid_row": null,
            "grid_template_areas": null,
            "grid_template_columns": null,
            "grid_template_rows": null,
            "height": null,
            "justify_content": null,
            "justify_items": null,
            "left": null,
            "margin": null,
            "max_height": null,
            "max_width": null,
            "min_height": null,
            "min_width": null,
            "object_fit": null,
            "object_position": null,
            "order": null,
            "overflow": null,
            "overflow_x": null,
            "overflow_y": null,
            "padding": null,
            "right": null,
            "top": null,
            "visibility": null,
            "width": null
          }
        },
        "aa6e0addc09e4934ba50fdf1b994fbdc": {
          "model_module": "@jupyter-widgets/base",
          "model_name": "LayoutModel",
          "model_module_version": "1.2.0",
          "state": {
            "_model_module": "@jupyter-widgets/base",
            "_model_module_version": "1.2.0",
            "_model_name": "LayoutModel",
            "_view_count": null,
            "_view_module": "@jupyter-widgets/base",
            "_view_module_version": "1.2.0",
            "_view_name": "LayoutView",
            "align_content": null,
            "align_items": null,
            "align_self": null,
            "border": null,
            "bottom": null,
            "display": null,
            "flex": null,
            "flex_flow": null,
            "grid_area": null,
            "grid_auto_columns": null,
            "grid_auto_flow": null,
            "grid_auto_rows": null,
            "grid_column": null,
            "grid_gap": null,
            "grid_row": null,
            "grid_template_areas": null,
            "grid_template_columns": null,
            "grid_template_rows": null,
            "height": null,
            "justify_content": null,
            "justify_items": null,
            "left": null,
            "margin": null,
            "max_height": null,
            "max_width": null,
            "min_height": null,
            "min_width": null,
            "object_fit": null,
            "object_position": null,
            "order": null,
            "overflow": null,
            "overflow_x": null,
            "overflow_y": null,
            "padding": null,
            "right": null,
            "top": null,
            "visibility": null,
            "width": null
          }
        },
        "ff7564d60cd840d198adcb99c808e48a": {
          "model_module": "@jupyter-widgets/controls",
          "model_name": "DescriptionStyleModel",
          "model_module_version": "1.5.0",
          "state": {
            "_model_module": "@jupyter-widgets/controls",
            "_model_module_version": "1.5.0",
            "_model_name": "DescriptionStyleModel",
            "_view_count": null,
            "_view_module": "@jupyter-widgets/base",
            "_view_module_version": "1.2.0",
            "_view_name": "StyleView",
            "description_width": ""
          }
        },
        "2dbab4ac0e31428c95d71644d87ac109": {
          "model_module": "@jupyter-widgets/base",
          "model_name": "LayoutModel",
          "model_module_version": "1.2.0",
          "state": {
            "_model_module": "@jupyter-widgets/base",
            "_model_module_version": "1.2.0",
            "_model_name": "LayoutModel",
            "_view_count": null,
            "_view_module": "@jupyter-widgets/base",
            "_view_module_version": "1.2.0",
            "_view_name": "LayoutView",
            "align_content": null,
            "align_items": null,
            "align_self": null,
            "border": null,
            "bottom": null,
            "display": null,
            "flex": null,
            "flex_flow": null,
            "grid_area": null,
            "grid_auto_columns": null,
            "grid_auto_flow": null,
            "grid_auto_rows": null,
            "grid_column": null,
            "grid_gap": null,
            "grid_row": null,
            "grid_template_areas": null,
            "grid_template_columns": null,
            "grid_template_rows": null,
            "height": null,
            "justify_content": null,
            "justify_items": null,
            "left": null,
            "margin": null,
            "max_height": null,
            "max_width": null,
            "min_height": null,
            "min_width": null,
            "object_fit": null,
            "object_position": null,
            "order": null,
            "overflow": null,
            "overflow_x": null,
            "overflow_y": null,
            "padding": null,
            "right": null,
            "top": null,
            "visibility": null,
            "width": null
          }
        },
        "66f7a038a68e45f7907dbafdffa2ca91": {
          "model_module": "@jupyter-widgets/controls",
          "model_name": "ProgressStyleModel",
          "model_module_version": "1.5.0",
          "state": {
            "_model_module": "@jupyter-widgets/controls",
            "_model_module_version": "1.5.0",
            "_model_name": "ProgressStyleModel",
            "_view_count": null,
            "_view_module": "@jupyter-widgets/base",
            "_view_module_version": "1.2.0",
            "_view_name": "StyleView",
            "bar_color": null,
            "description_width": ""
          }
        },
        "f2b946a44fa0491887839654721df2fb": {
          "model_module": "@jupyter-widgets/base",
          "model_name": "LayoutModel",
          "model_module_version": "1.2.0",
          "state": {
            "_model_module": "@jupyter-widgets/base",
            "_model_module_version": "1.2.0",
            "_model_name": "LayoutModel",
            "_view_count": null,
            "_view_module": "@jupyter-widgets/base",
            "_view_module_version": "1.2.0",
            "_view_name": "LayoutView",
            "align_content": null,
            "align_items": null,
            "align_self": null,
            "border": null,
            "bottom": null,
            "display": null,
            "flex": null,
            "flex_flow": null,
            "grid_area": null,
            "grid_auto_columns": null,
            "grid_auto_flow": null,
            "grid_auto_rows": null,
            "grid_column": null,
            "grid_gap": null,
            "grid_row": null,
            "grid_template_areas": null,
            "grid_template_columns": null,
            "grid_template_rows": null,
            "height": null,
            "justify_content": null,
            "justify_items": null,
            "left": null,
            "margin": null,
            "max_height": null,
            "max_width": null,
            "min_height": null,
            "min_width": null,
            "object_fit": null,
            "object_position": null,
            "order": null,
            "overflow": null,
            "overflow_x": null,
            "overflow_y": null,
            "padding": null,
            "right": null,
            "top": null,
            "visibility": null,
            "width": null
          }
        },
        "78f132d9b3424374bd41fa58aa6a03f1": {
          "model_module": "@jupyter-widgets/controls",
          "model_name": "DescriptionStyleModel",
          "model_module_version": "1.5.0",
          "state": {
            "_model_module": "@jupyter-widgets/controls",
            "_model_module_version": "1.5.0",
            "_model_name": "DescriptionStyleModel",
            "_view_count": null,
            "_view_module": "@jupyter-widgets/base",
            "_view_module_version": "1.2.0",
            "_view_name": "StyleView",
            "description_width": ""
          }
        },
        "5a92ba961edf4c788cec6dde577534d9": {
          "model_module": "@jupyter-widgets/controls",
          "model_name": "HBoxModel",
          "model_module_version": "1.5.0",
          "state": {
            "_dom_classes": [],
            "_model_module": "@jupyter-widgets/controls",
            "_model_module_version": "1.5.0",
            "_model_name": "HBoxModel",
            "_view_count": null,
            "_view_module": "@jupyter-widgets/controls",
            "_view_module_version": "1.5.0",
            "_view_name": "HBoxView",
            "box_style": "",
            "children": [
              "IPY_MODEL_e494a60267ed467ea6226c9f6275678c",
              "IPY_MODEL_e964e65732344859b2d51e650acd3a00",
              "IPY_MODEL_76a9019f4b704b318c9f276f871ab2d5"
            ],
            "layout": "IPY_MODEL_b7c75997a63e448f8b62eae9dfaf8997"
          }
        },
        "e494a60267ed467ea6226c9f6275678c": {
          "model_module": "@jupyter-widgets/controls",
          "model_name": "HTMLModel",
          "model_module_version": "1.5.0",
          "state": {
            "_dom_classes": [],
            "_model_module": "@jupyter-widgets/controls",
            "_model_module_version": "1.5.0",
            "_model_name": "HTMLModel",
            "_view_count": null,
            "_view_module": "@jupyter-widgets/controls",
            "_view_module_version": "1.5.0",
            "_view_name": "HTMLView",
            "description": "",
            "description_tooltip": null,
            "layout": "IPY_MODEL_f9801e97e6284fad8ba8d8cbb49a39a9",
            "placeholder": "​",
            "style": "IPY_MODEL_e538a1c159fc4800bcd479739bc83d23",
            "value": "Making predictions: 100%"
          }
        },
        "e964e65732344859b2d51e650acd3a00": {
          "model_module": "@jupyter-widgets/controls",
          "model_name": "FloatProgressModel",
          "model_module_version": "1.5.0",
          "state": {
            "_dom_classes": [],
            "_model_module": "@jupyter-widgets/controls",
            "_model_module_version": "1.5.0",
            "_model_name": "FloatProgressModel",
            "_view_count": null,
            "_view_module": "@jupyter-widgets/controls",
            "_view_module_version": "1.5.0",
            "_view_name": "ProgressView",
            "bar_style": "success",
            "description": "",
            "description_tooltip": null,
            "layout": "IPY_MODEL_3685bd8888d94d2b9eec6295ce345738",
            "max": 100,
            "min": 0,
            "orientation": "horizontal",
            "style": "IPY_MODEL_4eafd3bc4f1246a082ac31796c570443",
            "value": 100
          }
        },
        "76a9019f4b704b318c9f276f871ab2d5": {
          "model_module": "@jupyter-widgets/controls",
          "model_name": "HTMLModel",
          "model_module_version": "1.5.0",
          "state": {
            "_dom_classes": [],
            "_model_module": "@jupyter-widgets/controls",
            "_model_module_version": "1.5.0",
            "_model_name": "HTMLModel",
            "_view_count": null,
            "_view_module": "@jupyter-widgets/controls",
            "_view_module_version": "1.5.0",
            "_view_name": "HTMLView",
            "description": "",
            "description_tooltip": null,
            "layout": "IPY_MODEL_51bbd1f6b3fc44209aa81796b2730567",
            "placeholder": "​",
            "style": "IPY_MODEL_e343322329ac4713941551e6f5f43ea0",
            "value": " 100/100 [00:02&lt;00:00, 46.53it/s]"
          }
        },
        "b7c75997a63e448f8b62eae9dfaf8997": {
          "model_module": "@jupyter-widgets/base",
          "model_name": "LayoutModel",
          "model_module_version": "1.2.0",
          "state": {
            "_model_module": "@jupyter-widgets/base",
            "_model_module_version": "1.2.0",
            "_model_name": "LayoutModel",
            "_view_count": null,
            "_view_module": "@jupyter-widgets/base",
            "_view_module_version": "1.2.0",
            "_view_name": "LayoutView",
            "align_content": null,
            "align_items": null,
            "align_self": null,
            "border": null,
            "bottom": null,
            "display": null,
            "flex": null,
            "flex_flow": null,
            "grid_area": null,
            "grid_auto_columns": null,
            "grid_auto_flow": null,
            "grid_auto_rows": null,
            "grid_column": null,
            "grid_gap": null,
            "grid_row": null,
            "grid_template_areas": null,
            "grid_template_columns": null,
            "grid_template_rows": null,
            "height": null,
            "justify_content": null,
            "justify_items": null,
            "left": null,
            "margin": null,
            "max_height": null,
            "max_width": null,
            "min_height": null,
            "min_width": null,
            "object_fit": null,
            "object_position": null,
            "order": null,
            "overflow": null,
            "overflow_x": null,
            "overflow_y": null,
            "padding": null,
            "right": null,
            "top": null,
            "visibility": null,
            "width": null
          }
        },
        "f9801e97e6284fad8ba8d8cbb49a39a9": {
          "model_module": "@jupyter-widgets/base",
          "model_name": "LayoutModel",
          "model_module_version": "1.2.0",
          "state": {
            "_model_module": "@jupyter-widgets/base",
            "_model_module_version": "1.2.0",
            "_model_name": "LayoutModel",
            "_view_count": null,
            "_view_module": "@jupyter-widgets/base",
            "_view_module_version": "1.2.0",
            "_view_name": "LayoutView",
            "align_content": null,
            "align_items": null,
            "align_self": null,
            "border": null,
            "bottom": null,
            "display": null,
            "flex": null,
            "flex_flow": null,
            "grid_area": null,
            "grid_auto_columns": null,
            "grid_auto_flow": null,
            "grid_auto_rows": null,
            "grid_column": null,
            "grid_gap": null,
            "grid_row": null,
            "grid_template_areas": null,
            "grid_template_columns": null,
            "grid_template_rows": null,
            "height": null,
            "justify_content": null,
            "justify_items": null,
            "left": null,
            "margin": null,
            "max_height": null,
            "max_width": null,
            "min_height": null,
            "min_width": null,
            "object_fit": null,
            "object_position": null,
            "order": null,
            "overflow": null,
            "overflow_x": null,
            "overflow_y": null,
            "padding": null,
            "right": null,
            "top": null,
            "visibility": null,
            "width": null
          }
        },
        "e538a1c159fc4800bcd479739bc83d23": {
          "model_module": "@jupyter-widgets/controls",
          "model_name": "DescriptionStyleModel",
          "model_module_version": "1.5.0",
          "state": {
            "_model_module": "@jupyter-widgets/controls",
            "_model_module_version": "1.5.0",
            "_model_name": "DescriptionStyleModel",
            "_view_count": null,
            "_view_module": "@jupyter-widgets/base",
            "_view_module_version": "1.2.0",
            "_view_name": "StyleView",
            "description_width": ""
          }
        },
        "3685bd8888d94d2b9eec6295ce345738": {
          "model_module": "@jupyter-widgets/base",
          "model_name": "LayoutModel",
          "model_module_version": "1.2.0",
          "state": {
            "_model_module": "@jupyter-widgets/base",
            "_model_module_version": "1.2.0",
            "_model_name": "LayoutModel",
            "_view_count": null,
            "_view_module": "@jupyter-widgets/base",
            "_view_module_version": "1.2.0",
            "_view_name": "LayoutView",
            "align_content": null,
            "align_items": null,
            "align_self": null,
            "border": null,
            "bottom": null,
            "display": null,
            "flex": null,
            "flex_flow": null,
            "grid_area": null,
            "grid_auto_columns": null,
            "grid_auto_flow": null,
            "grid_auto_rows": null,
            "grid_column": null,
            "grid_gap": null,
            "grid_row": null,
            "grid_template_areas": null,
            "grid_template_columns": null,
            "grid_template_rows": null,
            "height": null,
            "justify_content": null,
            "justify_items": null,
            "left": null,
            "margin": null,
            "max_height": null,
            "max_width": null,
            "min_height": null,
            "min_width": null,
            "object_fit": null,
            "object_position": null,
            "order": null,
            "overflow": null,
            "overflow_x": null,
            "overflow_y": null,
            "padding": null,
            "right": null,
            "top": null,
            "visibility": null,
            "width": null
          }
        },
        "4eafd3bc4f1246a082ac31796c570443": {
          "model_module": "@jupyter-widgets/controls",
          "model_name": "ProgressStyleModel",
          "model_module_version": "1.5.0",
          "state": {
            "_model_module": "@jupyter-widgets/controls",
            "_model_module_version": "1.5.0",
            "_model_name": "ProgressStyleModel",
            "_view_count": null,
            "_view_module": "@jupyter-widgets/base",
            "_view_module_version": "1.2.0",
            "_view_name": "StyleView",
            "bar_color": null,
            "description_width": ""
          }
        },
        "51bbd1f6b3fc44209aa81796b2730567": {
          "model_module": "@jupyter-widgets/base",
          "model_name": "LayoutModel",
          "model_module_version": "1.2.0",
          "state": {
            "_model_module": "@jupyter-widgets/base",
            "_model_module_version": "1.2.0",
            "_model_name": "LayoutModel",
            "_view_count": null,
            "_view_module": "@jupyter-widgets/base",
            "_view_module_version": "1.2.0",
            "_view_name": "LayoutView",
            "align_content": null,
            "align_items": null,
            "align_self": null,
            "border": null,
            "bottom": null,
            "display": null,
            "flex": null,
            "flex_flow": null,
            "grid_area": null,
            "grid_auto_columns": null,
            "grid_auto_flow": null,
            "grid_auto_rows": null,
            "grid_column": null,
            "grid_gap": null,
            "grid_row": null,
            "grid_template_areas": null,
            "grid_template_columns": null,
            "grid_template_rows": null,
            "height": null,
            "justify_content": null,
            "justify_items": null,
            "left": null,
            "margin": null,
            "max_height": null,
            "max_width": null,
            "min_height": null,
            "min_width": null,
            "object_fit": null,
            "object_position": null,
            "order": null,
            "overflow": null,
            "overflow_x": null,
            "overflow_y": null,
            "padding": null,
            "right": null,
            "top": null,
            "visibility": null,
            "width": null
          }
        },
        "e343322329ac4713941551e6f5f43ea0": {
          "model_module": "@jupyter-widgets/controls",
          "model_name": "DescriptionStyleModel",
          "model_module_version": "1.5.0",
          "state": {
            "_model_module": "@jupyter-widgets/controls",
            "_model_module_version": "1.5.0",
            "_model_name": "DescriptionStyleModel",
            "_view_count": null,
            "_view_module": "@jupyter-widgets/base",
            "_view_module_version": "1.2.0",
            "_view_name": "StyleView",
            "description_width": ""
          }
        }
      }
    }
  },
  "cells": [
    {
      "cell_type": "markdown",
      "source": [
        "# **CNN für Handwritten Recognition**"
      ],
      "metadata": {
        "id": "TnAIohBoGKAi"
      }
    },
    {
      "cell_type": "markdown",
      "source": [
        "# **First Step: Import Dataset**"
      ],
      "metadata": {
        "id": "jTkQhQQ1GaSK"
      }
    },
    {
      "cell_type": "code",
      "execution_count": 1,
      "metadata": {
        "id": "bigpxh3rXhTx"
      },
      "outputs": [],
      "source": [
        "# Import PyTorch\n",
        "import torch\n",
        "from torch import nn\n",
        "\n",
        "# Import torchvision\n",
        "import torchvision\n",
        "from torchvision import datasets\n",
        "from torchvision.transforms import ToTensor\n",
        "\n",
        "# Import matplotlib for visualization\n",
        "import matplotlib.pyplot as plt"
      ]
    },
    {
      "cell_type": "code",
      "source": [
        "train_data = datasets.MNIST(\n",
        "    root = 'data',\n",
        "    train = True,\n",
        "    download = True,\n",
        "    transform = ToTensor()\n",
        ")\n",
        "\n",
        "test_data = datasets.MNIST(\n",
        "    root = 'data',\n",
        "    train = False,\n",
        "    download = True,\n",
        "    transform = ToTensor()\n",
        ")"
      ],
      "metadata": {
        "id": "PhxDSYV3X-FX",
        "colab": {
          "base_uri": "https://localhost:8080/",
          "height": 0
        },
        "outputId": "64d8df60-8ec4-4e15-ec3f-00fe39189936"
      },
      "execution_count": 2,
      "outputs": [
        {
          "output_type": "stream",
          "name": "stdout",
          "text": [
            "Downloading http://yann.lecun.com/exdb/mnist/train-images-idx3-ubyte.gz\n",
            "Downloading http://yann.lecun.com/exdb/mnist/train-images-idx3-ubyte.gz to data/MNIST/raw/train-images-idx3-ubyte.gz\n"
          ]
        },
        {
          "output_type": "stream",
          "name": "stderr",
          "text": [
            "100%|██████████| 9912422/9912422 [00:00<00:00, 82798535.13it/s]\n"
          ]
        },
        {
          "output_type": "stream",
          "name": "stdout",
          "text": [
            "Extracting data/MNIST/raw/train-images-idx3-ubyte.gz to data/MNIST/raw\n",
            "\n",
            "Downloading http://yann.lecun.com/exdb/mnist/train-labels-idx1-ubyte.gz\n",
            "Downloading http://yann.lecun.com/exdb/mnist/train-labels-idx1-ubyte.gz to data/MNIST/raw/train-labels-idx1-ubyte.gz\n"
          ]
        },
        {
          "output_type": "stream",
          "name": "stderr",
          "text": [
            "100%|██████████| 28881/28881 [00:00<00:00, 65196821.22it/s]"
          ]
        },
        {
          "output_type": "stream",
          "name": "stdout",
          "text": [
            "Extracting data/MNIST/raw/train-labels-idx1-ubyte.gz to data/MNIST/raw\n",
            "\n",
            "Downloading http://yann.lecun.com/exdb/mnist/t10k-images-idx3-ubyte.gz\n",
            "Downloading http://yann.lecun.com/exdb/mnist/t10k-images-idx3-ubyte.gz to data/MNIST/raw/t10k-images-idx3-ubyte.gz\n"
          ]
        },
        {
          "output_type": "stream",
          "name": "stderr",
          "text": [
            "\n",
            "100%|██████████| 1648877/1648877 [00:00<00:00, 19860695.53it/s]\n"
          ]
        },
        {
          "output_type": "stream",
          "name": "stdout",
          "text": [
            "Extracting data/MNIST/raw/t10k-images-idx3-ubyte.gz to data/MNIST/raw\n",
            "\n",
            "Downloading http://yann.lecun.com/exdb/mnist/t10k-labels-idx1-ubyte.gz\n",
            "Downloading http://yann.lecun.com/exdb/mnist/t10k-labels-idx1-ubyte.gz to data/MNIST/raw/t10k-labels-idx1-ubyte.gz\n"
          ]
        },
        {
          "output_type": "stream",
          "name": "stderr",
          "text": [
            "100%|██████████| 4542/4542 [00:00<00:00, 593696.36it/s]\n"
          ]
        },
        {
          "output_type": "stream",
          "name": "stdout",
          "text": [
            "Extracting data/MNIST/raw/t10k-labels-idx1-ubyte.gz to data/MNIST/raw\n",
            "\n"
          ]
        }
      ]
    },
    {
      "cell_type": "markdown",
      "source": [
        "# **Second Step: Split Data into batches**"
      ],
      "metadata": {
        "id": "mIs6eU-GGtAP"
      }
    },
    {
      "cell_type": "code",
      "source": [
        "from torch.utils.data import DataLoader\n",
        "\n",
        "batchSize = 100\n",
        "\n",
        "train_dataloader = DataLoader(\n",
        "    dataset = train_data,\n",
        "    batch_size = batchSize,\n",
        "    shuffle = True,\n",
        "    num_workers=1\n",
        ")\n",
        "\n",
        "test_dataloader = DataLoader(\n",
        "    dataset = test_data,\n",
        "    batch_size = batchSize,\n",
        "    shuffle = False,\n",
        "    num_workers=1\n",
        ")"
      ],
      "metadata": {
        "id": "ZkKAeoEiYKA_"
      },
      "execution_count": 3,
      "outputs": []
    },
    {
      "cell_type": "code",
      "source": [
        "train_dataloader"
      ],
      "metadata": {
        "colab": {
          "base_uri": "https://localhost:8080/",
          "height": 0
        },
        "id": "Tv5k3NNRg2B6",
        "outputId": "693440af-f8c9-430d-c5c9-e0e3cebe2aa3"
      },
      "execution_count": 4,
      "outputs": [
        {
          "output_type": "execute_result",
          "data": {
            "text/plain": [
              "<torch.utils.data.dataloader.DataLoader at 0x7d8ddb689ae0>"
            ]
          },
          "metadata": {},
          "execution_count": 4
        }
      ]
    },
    {
      "cell_type": "markdown",
      "source": [
        "**Third Step: Initialize the CNN**"
      ],
      "metadata": {
        "id": "r3MgaTeoG3No"
      }
    },
    {
      "cell_type": "code",
      "source": [
        "import torch.nn.functional as F\n",
        "import torch.optim as optim\n",
        "\n",
        "class MNISTModel(nn.Module):\n",
        "\n",
        "  def __init__(self):\n",
        "    super(MNISTModel, self).__init__()\n",
        "\n",
        "    self.conv1 = nn.Conv2d(1,10,kernel_size=5)\n",
        "    self.conv2 = nn.Conv2d(10,20,kernel_size=5)\n",
        "    self.conv2_drop = nn.Dropout2d()\n",
        "    self.fc1 = nn.Linear(320,50)\n",
        "    self.fc2 = nn.Linear(50,10)\n",
        "\n",
        "\n",
        "  def forward(self,x):\n",
        "    x = F.relu(F.max_pool2d(self.conv1(x),2))\n",
        "    x = F.relu(F.max_pool2d(self.conv2_drop(self.conv2(x)),2))\n",
        "    x = x.view(-1,320)\n",
        "    x = F.relu(self.fc1(x))\n",
        "    x = F.dropout(x, training = self.training)\n",
        "    x = self.fc2(x)\n",
        "\n",
        "    return F.softmax(x)\n"
      ],
      "metadata": {
        "id": "X0xq8zEXYfhP"
      },
      "execution_count": 5,
      "outputs": []
    },
    {
      "cell_type": "code",
      "source": [
        "device = \"cuda\" if torch.cuda.is_available() else \"cpu\"\n",
        "device"
      ],
      "metadata": {
        "colab": {
          "base_uri": "https://localhost:8080/",
          "height": 35
        },
        "id": "ezvwOGYjabXV",
        "outputId": "54c4adde-04ed-4467-99ee-c77c1216cf43"
      },
      "execution_count": 6,
      "outputs": [
        {
          "output_type": "execute_result",
          "data": {
            "text/plain": [
              "'cpu'"
            ],
            "application/vnd.google.colaboratory.intrinsic+json": {
              "type": "string"
            }
          },
          "metadata": {},
          "execution_count": 6
        }
      ]
    },
    {
      "cell_type": "markdown",
      "source": [
        "**Fourth Step: Loss function and Optimizer**"
      ],
      "metadata": {
        "id": "7UW7lCTWHKTf"
      }
    },
    {
      "cell_type": "code",
      "source": [
        "import requests\n",
        "from pathlib import Path\n",
        "\n",
        "request = requests.get(\"https://raw.githubusercontent.com/mrdbourke/pytorch-deep-learning/main/helper_functions.py\")\n",
        "with open(\"helper_functions.py\", \"wb\") as f:\n",
        "    f.write(request.content)"
      ],
      "metadata": {
        "id": "VmH5IG31cBIX"
      },
      "execution_count": 7,
      "outputs": []
    },
    {
      "cell_type": "code",
      "source": [
        "from helper_functions import accuracy_fn\n",
        "from tqdm.auto import tqdm\n",
        "\n",
        "model = MNISTModel().to(device)\n",
        "\n",
        "optimizer = optim.Adam(model.parameters(), lr = 0.001)\n",
        "\n",
        "loss_fn = nn.CrossEntropyLoss()\n"
      ],
      "metadata": {
        "id": "S4kFmUDUam9i"
      },
      "execution_count": 8,
      "outputs": []
    },
    {
      "cell_type": "markdown",
      "source": [
        "**Next step: Function for Training  und testing**"
      ],
      "metadata": {
        "id": "l0SPseMaHSkv"
      }
    },
    {
      "cell_type": "code",
      "source": [
        "def train_step(model: torch.nn.Module,\n",
        "               data_loader: torch.utils.data.DataLoader,\n",
        "               loss_fn: torch.nn.Module,\n",
        "               optimizer: torch.optim.Optimizer,\n",
        "               accuracy_fn,\n",
        "               device: torch.device = device):\n",
        "    train_loss, train_acc = 0, 0\n",
        "    model.to(device)\n",
        "    for batch, (X, y) in enumerate(data_loader):\n",
        "        # Send data to GPU\n",
        "        X, y = X.to(device), y.to(device)\n",
        "\n",
        "        # 1. Forward pass\n",
        "        y_pred = model(X)\n",
        "\n",
        "        # 2. Calculate loss\n",
        "        loss = loss_fn(y_pred, y)\n",
        "        train_loss += loss\n",
        "        train_acc += accuracy_fn(y_true=y,\n",
        "                                 y_pred=y_pred.argmax(dim=1)) # Go from logits -> pred labels\n",
        "\n",
        "        # 3. Optimizer zero grad\n",
        "        optimizer.zero_grad()\n",
        "\n",
        "        # 4. Loss backward\n",
        "        loss.backward()\n",
        "\n",
        "        # 5. Optimizer step\n",
        "        optimizer.step()\n",
        "\n",
        "    # Calculate loss and accuracy per epoch and print out what's happening\n",
        "    train_loss /= len(data_loader)\n",
        "    train_acc /= len(data_loader)\n",
        "    print(f\"Train loss: {train_loss:.5f} | Train accuracy: {train_acc:.2f}%\")\n",
        "\n",
        "def test_step(data_loader: torch.utils.data.DataLoader,\n",
        "              model: torch.nn.Module,\n",
        "              loss_fn: torch.nn.Module,\n",
        "              accuracy_fn,\n",
        "              device: torch.device = device):\n",
        "    test_loss, test_acc = 0, 0\n",
        "    model.to(device)\n",
        "    model.eval() # put model in eval mode\n",
        "\n",
        "    # Turn on inference context manager\n",
        "    with torch.inference_mode():\n",
        "        for X, y in data_loader:\n",
        "            # Send data to GPU\n",
        "            X, y = X.to(device), y.to(device)\n",
        "\n",
        "            # 1. Forward pass\n",
        "            test_pred = model(X)\n",
        "\n",
        "            # 2. Calculate loss and accuracy\n",
        "            test_loss += loss_fn(test_pred, y)\n",
        "            test_acc += accuracy_fn(y_true=y,\n",
        "                y_pred=test_pred.argmax(dim=1) # Go from logits -> pred labels\n",
        "            )\n",
        "\n",
        "        # Adjust metrics and print out\n",
        "        test_loss /= len(data_loader)\n",
        "        test_acc /= len(data_loader)\n",
        "        print(f\"Test loss: {test_loss:.5f} | Test accuracy: {test_acc:.2f}%\\n\")"
      ],
      "metadata": {
        "id": "Zfyj7-TFbqp4"
      },
      "execution_count": 9,
      "outputs": []
    },
    {
      "cell_type": "markdown",
      "source": [
        "**Training and Testing Step**"
      ],
      "metadata": {
        "id": "g2zX1beEHjpg"
      }
    },
    {
      "cell_type": "code",
      "source": [
        "\n",
        "# Train and test model\n",
        "epochs = 50\n",
        "for epoch in tqdm(range(epochs)):\n",
        "    print(f\"Epoch: {epoch}\\n---------\")\n",
        "    train_step(data_loader=train_dataloader,\n",
        "        model=model,\n",
        "        loss_fn=loss_fn,\n",
        "        optimizer=optimizer,\n",
        "        accuracy_fn=accuracy_fn,\n",
        "        device=device\n",
        "    )\n",
        "    test_step(data_loader=test_dataloader,\n",
        "        model=model,\n",
        "        loss_fn=loss_fn,\n",
        "        accuracy_fn=accuracy_fn,\n",
        "        device=device\n",
        "    )"
      ],
      "metadata": {
        "colab": {
          "base_uri": "https://localhost:8080/",
          "height": 4442,
          "referenced_widgets": [
            "cb2895bc6d8c4fc3ad138aff24e59db4",
            "46b1a593b5a74de184d0d8b58260a2ae",
            "2015fb8af5ed4531b6bc48728940d5d9",
            "17222deb9326460582028da5e9d39d92",
            "8f9ff0f075e8411e95df1ede4c7ba971",
            "aa6e0addc09e4934ba50fdf1b994fbdc",
            "ff7564d60cd840d198adcb99c808e48a",
            "2dbab4ac0e31428c95d71644d87ac109",
            "66f7a038a68e45f7907dbafdffa2ca91",
            "f2b946a44fa0491887839654721df2fb",
            "78f132d9b3424374bd41fa58aa6a03f1"
          ]
        },
        "id": "mYWZt39fhP1E",
        "outputId": "f12de21a-f00d-4f09-e193-ee7109228445"
      },
      "execution_count": 10,
      "outputs": [
        {
          "output_type": "display_data",
          "data": {
            "text/plain": [
              "  0%|          | 0/50 [00:00<?, ?it/s]"
            ],
            "application/vnd.jupyter.widget-view+json": {
              "version_major": 2,
              "version_minor": 0,
              "model_id": "cb2895bc6d8c4fc3ad138aff24e59db4"
            }
          },
          "metadata": {}
        },
        {
          "output_type": "stream",
          "name": "stdout",
          "text": [
            "Epoch: 0\n",
            "---------\n"
          ]
        },
        {
          "output_type": "stream",
          "name": "stderr",
          "text": [
            "<ipython-input-5-b86a67cb034c>:24: UserWarning: Implicit dimension choice for softmax has been deprecated. Change the call to include dim=X as an argument.\n",
            "  return F.softmax(x)\n"
          ]
        },
        {
          "output_type": "stream",
          "name": "stdout",
          "text": [
            "Train loss: 1.71407 | Train accuracy: 76.21%\n",
            "Test loss: 1.52467 | Test accuracy: 93.83%\n",
            "\n",
            "Epoch: 1\n",
            "---------\n",
            "Train loss: 1.50959 | Train accuracy: 95.39%\n",
            "Test loss: 1.49307 | Test accuracy: 96.98%\n",
            "\n",
            "Epoch: 2\n",
            "---------\n",
            "Train loss: 1.49323 | Train accuracy: 96.97%\n",
            "Test loss: 1.48620 | Test accuracy: 97.67%\n",
            "\n",
            "Epoch: 3\n",
            "---------\n",
            "Train loss: 1.48655 | Train accuracy: 97.58%\n",
            "Test loss: 1.48158 | Test accuracy: 98.07%\n",
            "\n",
            "Epoch: 4\n",
            "---------\n",
            "Train loss: 1.48310 | Train accuracy: 97.90%\n",
            "Test loss: 1.48245 | Test accuracy: 97.90%\n",
            "\n",
            "Epoch: 5\n",
            "---------\n",
            "Train loss: 1.48010 | Train accuracy: 98.16%\n",
            "Test loss: 1.48066 | Test accuracy: 98.19%\n",
            "\n",
            "Epoch: 6\n",
            "---------\n",
            "Train loss: 1.47755 | Train accuracy: 98.44%\n",
            "Test loss: 1.48023 | Test accuracy: 98.13%\n",
            "\n",
            "Epoch: 7\n",
            "---------\n",
            "Train loss: 1.47636 | Train accuracy: 98.53%\n",
            "Test loss: 1.47846 | Test accuracy: 98.32%\n",
            "\n",
            "Epoch: 8\n",
            "---------\n",
            "Train loss: 1.47512 | Train accuracy: 98.68%\n",
            "Test loss: 1.47571 | Test accuracy: 98.54%\n",
            "\n",
            "Epoch: 9\n",
            "---------\n",
            "Train loss: 1.47368 | Train accuracy: 98.79%\n",
            "Test loss: 1.47525 | Test accuracy: 98.62%\n",
            "\n",
            "Epoch: 10\n",
            "---------\n",
            "Train loss: 1.47260 | Train accuracy: 98.91%\n",
            "Test loss: 1.47515 | Test accuracy: 98.62%\n",
            "\n",
            "Epoch: 11\n",
            "---------\n",
            "Train loss: 1.47236 | Train accuracy: 98.90%\n",
            "Test loss: 1.47368 | Test accuracy: 98.77%\n",
            "\n",
            "Epoch: 12\n",
            "---------\n",
            "Train loss: 1.47199 | Train accuracy: 98.96%\n",
            "Test loss: 1.47485 | Test accuracy: 98.62%\n",
            "\n",
            "Epoch: 13\n",
            "---------\n",
            "Train loss: 1.47121 | Train accuracy: 99.02%\n",
            "Test loss: 1.47252 | Test accuracy: 98.85%\n",
            "\n",
            "Epoch: 14\n",
            "---------\n",
            "Train loss: 1.47008 | Train accuracy: 99.14%\n",
            "Test loss: 1.47278 | Test accuracy: 98.86%\n",
            "\n",
            "Epoch: 15\n",
            "---------\n",
            "Train loss: 1.47007 | Train accuracy: 99.13%\n",
            "Test loss: 1.47425 | Test accuracy: 98.73%\n",
            "\n",
            "Epoch: 16\n",
            "---------\n",
            "Train loss: 1.46970 | Train accuracy: 99.17%\n",
            "Test loss: 1.47353 | Test accuracy: 98.78%\n",
            "\n",
            "Epoch: 17\n",
            "---------\n",
            "Train loss: 1.46915 | Train accuracy: 99.22%\n",
            "Test loss: 1.47271 | Test accuracy: 98.84%\n",
            "\n",
            "Epoch: 18\n",
            "---------\n",
            "Train loss: 1.46884 | Train accuracy: 99.26%\n",
            "Test loss: 1.47276 | Test accuracy: 98.89%\n",
            "\n",
            "Epoch: 19\n",
            "---------\n",
            "Train loss: 1.46828 | Train accuracy: 99.32%\n",
            "Test loss: 1.47240 | Test accuracy: 98.89%\n",
            "\n",
            "Epoch: 20\n",
            "---------\n",
            "Train loss: 1.46849 | Train accuracy: 99.28%\n",
            "Test loss: 1.47190 | Test accuracy: 98.87%\n",
            "\n",
            "Epoch: 21\n",
            "---------\n",
            "Train loss: 1.46824 | Train accuracy: 99.31%\n",
            "Test loss: 1.47178 | Test accuracy: 98.90%\n",
            "\n",
            "Epoch: 22\n",
            "---------\n",
            "Train loss: 1.46805 | Train accuracy: 99.32%\n",
            "Test loss: 1.47182 | Test accuracy: 98.93%\n",
            "\n",
            "Epoch: 23\n",
            "---------\n",
            "Train loss: 1.46778 | Train accuracy: 99.35%\n",
            "Test loss: 1.47251 | Test accuracy: 98.87%\n",
            "\n",
            "Epoch: 24\n",
            "---------\n",
            "Train loss: 1.46760 | Train accuracy: 99.36%\n",
            "Test loss: 1.47104 | Test accuracy: 99.01%\n",
            "\n",
            "Epoch: 25\n",
            "---------\n",
            "Train loss: 1.46690 | Train accuracy: 99.44%\n",
            "Test loss: 1.47155 | Test accuracy: 98.99%\n",
            "\n",
            "Epoch: 26\n",
            "---------\n",
            "Train loss: 1.46696 | Train accuracy: 99.44%\n",
            "Test loss: 1.47188 | Test accuracy: 98.97%\n",
            "\n",
            "Epoch: 27\n",
            "---------\n",
            "Train loss: 1.46719 | Train accuracy: 99.42%\n",
            "Test loss: 1.47185 | Test accuracy: 98.94%\n",
            "\n",
            "Epoch: 28\n",
            "---------\n",
            "Train loss: 1.46666 | Train accuracy: 99.47%\n",
            "Test loss: 1.47451 | Test accuracy: 98.65%\n",
            "\n",
            "Epoch: 29\n",
            "---------\n",
            "Train loss: 1.46649 | Train accuracy: 99.47%\n",
            "Test loss: 1.47082 | Test accuracy: 99.08%\n",
            "\n",
            "Epoch: 30\n",
            "---------\n",
            "Train loss: 1.46624 | Train accuracy: 99.50%\n",
            "Test loss: 1.47239 | Test accuracy: 98.87%\n",
            "\n",
            "Epoch: 31\n",
            "---------\n",
            "Train loss: 1.46641 | Train accuracy: 99.48%\n",
            "Test loss: 1.47203 | Test accuracy: 98.91%\n",
            "\n",
            "Epoch: 32\n",
            "---------\n",
            "Train loss: 1.46598 | Train accuracy: 99.53%\n",
            "Test loss: 1.47040 | Test accuracy: 99.05%\n",
            "\n",
            "Epoch: 33\n",
            "---------\n",
            "Train loss: 1.46558 | Train accuracy: 99.57%\n",
            "Test loss: 1.46977 | Test accuracy: 99.17%\n",
            "\n",
            "Epoch: 34\n",
            "---------\n",
            "Train loss: 1.46583 | Train accuracy: 99.55%\n",
            "Test loss: 1.46957 | Test accuracy: 99.14%\n",
            "\n",
            "Epoch: 35\n",
            "---------\n",
            "Train loss: 1.46634 | Train accuracy: 99.48%\n",
            "Test loss: 1.47319 | Test accuracy: 98.76%\n",
            "\n",
            "Epoch: 36\n",
            "---------\n",
            "Train loss: 1.46579 | Train accuracy: 99.54%\n",
            "Test loss: 1.47157 | Test accuracy: 98.94%\n",
            "\n",
            "Epoch: 37\n",
            "---------\n",
            "Train loss: 1.46548 | Train accuracy: 99.58%\n",
            "Test loss: 1.46950 | Test accuracy: 99.18%\n",
            "\n",
            "Epoch: 38\n",
            "---------\n",
            "Train loss: 1.46568 | Train accuracy: 99.56%\n",
            "Test loss: 1.47125 | Test accuracy: 98.99%\n",
            "\n",
            "Epoch: 39\n",
            "---------\n",
            "Train loss: 1.46566 | Train accuracy: 99.56%\n",
            "Test loss: 1.47077 | Test accuracy: 99.06%\n",
            "\n",
            "Epoch: 40\n",
            "---------\n",
            "Train loss: 1.46547 | Train accuracy: 99.57%\n",
            "Test loss: 1.47131 | Test accuracy: 98.96%\n",
            "\n",
            "Epoch: 41\n",
            "---------\n",
            "Train loss: 1.46523 | Train accuracy: 99.60%\n",
            "Test loss: 1.47017 | Test accuracy: 99.10%\n",
            "\n",
            "Epoch: 42\n",
            "---------\n",
            "Train loss: 1.46511 | Train accuracy: 99.60%\n",
            "Test loss: 1.47284 | Test accuracy: 98.84%\n",
            "\n",
            "Epoch: 43\n",
            "---------\n",
            "Train loss: 1.46531 | Train accuracy: 99.60%\n",
            "Test loss: 1.46944 | Test accuracy: 99.18%\n",
            "\n",
            "Epoch: 44\n",
            "---------\n",
            "Train loss: 1.46534 | Train accuracy: 99.58%\n",
            "Test loss: 1.47283 | Test accuracy: 98.83%\n",
            "\n",
            "Epoch: 45\n",
            "---------\n",
            "Train loss: 1.46489 | Train accuracy: 99.63%\n",
            "Test loss: 1.46974 | Test accuracy: 99.13%\n",
            "\n",
            "Epoch: 46\n",
            "---------\n",
            "Train loss: 1.46490 | Train accuracy: 99.62%\n",
            "Test loss: 1.47008 | Test accuracy: 99.09%\n",
            "\n",
            "Epoch: 47\n",
            "---------\n",
            "Train loss: 1.46461 | Train accuracy: 99.66%\n",
            "Test loss: 1.47022 | Test accuracy: 99.08%\n",
            "\n",
            "Epoch: 48\n",
            "---------\n",
            "Train loss: 1.46497 | Train accuracy: 99.63%\n",
            "Test loss: 1.47188 | Test accuracy: 99.00%\n",
            "\n",
            "Epoch: 49\n",
            "---------\n",
            "Train loss: 1.46475 | Train accuracy: 99.64%\n",
            "Test loss: 1.46980 | Test accuracy: 99.11%\n",
            "\n"
          ]
        }
      ]
    },
    {
      "cell_type": "markdown",
      "source": [
        "**Predictions with the model**"
      ],
      "metadata": {
        "id": "sqyVfUjFHq1x"
      }
    },
    {
      "cell_type": "code",
      "source": [
        "# Import tqdm for progress bar\n",
        "from tqdm.auto import tqdm\n",
        "\n",
        "# 1. Make predictions with trained model\n",
        "y_preds = []\n",
        "model.eval()\n",
        "with torch.inference_mode():\n",
        "  for X, y in tqdm(test_dataloader, desc=\"Making predictions\"):\n",
        "    # Send data and targets to target device\n",
        "    X, y = X.to(device), y.to(device)\n",
        "    # Do the forward pass\n",
        "    y_logit = model(X)\n",
        "    # Turn predictions from logits -> prediction probabilities -> predictions labels\n",
        "    y_pred = torch.softmax(y_logit, dim=1).argmax(dim=1) # note: perform softmax on the \"logits\" dimension, not \"batch\" dimension (in this case we have a batch size of 32, so can perform on dim=1)\n",
        "    # Put predictions on CPU for evaluation\n",
        "    y_preds.append(y_pred.cpu())\n",
        "# Concatenate list of predictions into a tensor\n",
        "y_pred_tensor1 = torch.cat(y_preds)"
      ],
      "metadata": {
        "colab": {
          "base_uri": "https://localhost:8080/",
          "height": 104,
          "referenced_widgets": [
            "5a92ba961edf4c788cec6dde577534d9",
            "e494a60267ed467ea6226c9f6275678c",
            "e964e65732344859b2d51e650acd3a00",
            "76a9019f4b704b318c9f276f871ab2d5",
            "b7c75997a63e448f8b62eae9dfaf8997",
            "f9801e97e6284fad8ba8d8cbb49a39a9",
            "e538a1c159fc4800bcd479739bc83d23",
            "3685bd8888d94d2b9eec6295ce345738",
            "4eafd3bc4f1246a082ac31796c570443",
            "51bbd1f6b3fc44209aa81796b2730567",
            "e343322329ac4713941551e6f5f43ea0"
          ]
        },
        "id": "pCtPxv3ch0Qm",
        "outputId": "2538ca25-f1a1-48b0-8e3b-ae346fb35d66"
      },
      "execution_count": 11,
      "outputs": [
        {
          "output_type": "display_data",
          "data": {
            "text/plain": [
              "Making predictions:   0%|          | 0/100 [00:00<?, ?it/s]"
            ],
            "application/vnd.jupyter.widget-view+json": {
              "version_major": 2,
              "version_minor": 0,
              "model_id": "5a92ba961edf4c788cec6dde577534d9"
            }
          },
          "metadata": {}
        },
        {
          "output_type": "stream",
          "name": "stderr",
          "text": [
            "<ipython-input-5-b86a67cb034c>:24: UserWarning: Implicit dimension choice for softmax has been deprecated. Change the call to include dim=X as an argument.\n",
            "  return F.softmax(x)\n"
          ]
        }
      ]
    },
    {
      "cell_type": "code",
      "source": [
        "# See if torchmetrics exists, if not, install it\n",
        "try:\n",
        "    import torchmetrics, mlxtend\n",
        "    print(f\"mlxtend version: {mlxtend.__version__}\")\n",
        "    assert int(mlxtend.__version__.split(\".\")[1]) >= 19, \"mlxtend verison should be 0.19.0 or higher\"\n",
        "except:\n",
        "    !pip install -q torchmetrics -U mlxtend # <- Note: If you're using Google Colab, this may require restarting the runtime\n",
        "    import torchmetrics, mlxtend\n",
        "    print(f\"mlxtend version: {mlxtend.__version__}\")"
      ],
      "metadata": {
        "colab": {
          "base_uri": "https://localhost:8080/",
          "height": 0
        },
        "id": "kgECWgGOh-rP",
        "outputId": "a6ea0c95-2e8b-4d91-a7e8-bba8e424c317"
      },
      "execution_count": 12,
      "outputs": [
        {
          "output_type": "stream",
          "name": "stdout",
          "text": [
            "\u001b[2K     \u001b[90m━━━━━━━━━━━━━━━━━━━━━━━━━━━━━━━━━━━━━━━━\u001b[0m \u001b[32m840.2/840.2 kB\u001b[0m \u001b[31m6.9 MB/s\u001b[0m eta \u001b[36m0:00:00\u001b[0m\n",
            "\u001b[2K     \u001b[90m━━━━━━━━━━━━━━━━━━━━━━━━━━━━━━━━━━━━━━━━\u001b[0m \u001b[32m1.4/1.4 MB\u001b[0m \u001b[31m11.8 MB/s\u001b[0m eta \u001b[36m0:00:00\u001b[0m\n",
            "\u001b[?25hmlxtend version: 0.23.1\n"
          ]
        }
      ]
    },
    {
      "cell_type": "code",
      "source": [
        "# Import mlxtend upgraded version\n",
        "import mlxtend\n",
        "print(mlxtend.__version__)\n",
        "assert int(mlxtend.__version__.split(\".\")[1]) >= 19 # should be version 0.19.0 or higher"
      ],
      "metadata": {
        "colab": {
          "base_uri": "https://localhost:8080/",
          "height": 0
        },
        "id": "C4TYuvCAiM_G",
        "outputId": "6aa7b091-c8bd-40b2-85b3-cb9918bbe4b6"
      },
      "execution_count": 13,
      "outputs": [
        {
          "output_type": "stream",
          "name": "stdout",
          "text": [
            "0.23.1\n"
          ]
        }
      ]
    },
    {
      "cell_type": "code",
      "source": [
        "class_names = train_data.classes"
      ],
      "metadata": {
        "id": "QeX9J0ObiZ3P"
      },
      "execution_count": 14,
      "outputs": []
    },
    {
      "cell_type": "markdown",
      "source": [
        "**ConfusionMatrix**"
      ],
      "metadata": {
        "id": "tok8pUjGHwj-"
      }
    },
    {
      "cell_type": "code",
      "source": [
        "from torchmetrics import ConfusionMatrix\n",
        "from mlxtend.plotting import plot_confusion_matrix\n",
        "\n",
        "# 2. Setup confusion matrix instance and compare predictions to targets\n",
        "confmat = ConfusionMatrix(num_classes=len(class_names), task='multiclass')\n",
        "confmat_tensor = confmat(preds=y_pred_tensor1,\n",
        "                         target=test_data.targets)\n",
        "\n",
        "# 3. Plot the confusion matrix\n",
        "fig, ax = plot_confusion_matrix(\n",
        "    conf_mat=confmat_tensor.numpy(), # matplotlib likes working with NumPy\n",
        "    class_names=class_names, # turn the row and column labels into class names\n",
        "    figsize=(10, 7)\n",
        ");"
      ],
      "metadata": {
        "colab": {
          "base_uri": "https://localhost:8080/",
          "height": 660
        },
        "id": "Y4v7qswZiPIW",
        "outputId": "ab4f4aa2-7a38-4a10-e07b-8b83cce6be57"
      },
      "execution_count": 15,
      "outputs": [
        {
          "output_type": "display_data",
          "data": {
            "text/plain": [
              "<Figure size 1000x700 with 1 Axes>"
            ],
            "image/png": "[encoded data removed]"
          },
          "metadata": {}
        }
      ]
    },
    {
      "cell_type": "markdown",
      "source": [
        "**Test on real Data**"
      ],
      "metadata": {
        "id": "4r4gjKhlH37T"
      }
    },
    {
      "cell_type": "code",
      "source": [
        "import cv2"
      ],
      "metadata": {
        "id": "zvZJLVQfkegl"
      },
      "execution_count": 16,
      "outputs": []
    },
    {
      "cell_type": "code",
      "source": [
        "true_sample = torch.arange(0,10,)"
      ],
      "metadata": {
        "id": "zMk8moqd59rx"
      },
      "execution_count": 17,
      "outputs": []
    },
    {
      "cell_type": "code",
      "source": [
        "# Load the model and set it to evaluation mode\n",
        "model.eval()\n",
        "\n",
        "# Plot predictions\n",
        "plt.figure(figsize=(9, 9))\n",
        "nrows = 3\n",
        "ncols = 3\n",
        "\n",
        "for i in range (0,9):\n",
        "\n",
        "    # Create a subplot\n",
        "  plt.subplot(nrows, ncols, i+1)\n",
        "\n",
        "    # Plot the target image\n",
        "      # Load and preprocess the image\n",
        "  input_data = cv2.imread(str(i)+\".png\")\n",
        "  input_data = cv2.cvtColor(input_data, cv2.COLOR_BGR2GRAY)\n",
        "  input_data = cv2.resize(input_data, (28, 28))\n",
        "  sample = input_data.copy()\n",
        "  input_data = torch.from_numpy(input_data).unsqueeze(0).unsqueeze(0).to(device)\n",
        "  input_data = input_data.to(torch.float32)\n",
        "  plt.imshow(sample, cmap=\"gray\")\n",
        "  with torch.no_grad():\n",
        "    # Find the prediction label (in text form, e.g. \"Sandal\")\n",
        "    output_data = model(input_data)\n",
        "    pred_label = output_data.argmax(dim = 1)\n",
        "\n",
        "    # Get the truth label (in text form, e.g. \"T-shirt\")\n",
        "  truth_label = true_sample[i]\n",
        "\n",
        "    # Create the title text of the plot\n",
        "  title_text = f\"Pred: {pred_label} | Truth: {truth_label}\"\n",
        "\n",
        "    # Check for equality and change title colour accordingly\n",
        "  if pred_label == truth_label:\n",
        "      plt.title(title_text, fontsize=10, c=\"g\") # green text if correct\n",
        "  else:\n",
        "      plt.title(title_text, fontsize=10, c=\"r\") # red text if wrong\n",
        "  plt.axis(False);"
      ],
      "metadata": {
        "colab": {
          "base_uri": "https://localhost:8080/",
          "height": 804
        },
        "id": "CzbOUeG8k0De",
        "outputId": "ea248b42-e66c-438e-d0b0-a1929172f9a1"
      },
      "execution_count": 22,
      "outputs": [
        {
          "output_type": "stream",
          "name": "stderr",
          "text": [
            "<ipython-input-5-b86a67cb034c>:24: UserWarning: Implicit dimension choice for softmax has been deprecated. Change the call to include dim=X as an argument.\n",
            "  return F.softmax(x)\n"
          ]
        },
        {
          "output_type": "display_data",
          "data": {
            "text/plain": [
              "<Figure size 900x900 with 9 Axes>"
            ],
            "image/png": "[encoded data removed]"
          },
          "metadata": {}
        }
      ]
    }
  ]
}